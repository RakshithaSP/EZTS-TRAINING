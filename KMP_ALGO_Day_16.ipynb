{
 "cells": [
  {
   "cell_type": "code",
   "execution_count": 4,
   "id": "097e8147",
   "metadata": {},
   "outputs": [
    {
     "name": "stdout",
     "output_type": "stream",
     "text": [
      "[0, 0, 0, 1, 2, 0, 1, 2]\n"
     ]
    }
   ],
   "source": [
    "a=\"ABCABDAB\"\n",
    "m=len(a)\n",
    "l=[0]\n",
    "j=0\n",
    "for i in range(1,m):\n",
    "    if a[i]==a[j]:\n",
    "        l.append(j+1)\n",
    "        j+=1\n",
    "    else:\n",
    "        j=0\n",
    "        l.append(j)\n",
    "print(l)"
   ]
  },
  {
   "cell_type": "markdown",
   "id": "8469422e",
   "metadata": {},
   "source": [
    "#### KMP Algorithm"
   ]
  },
  {
   "cell_type": "code",
   "execution_count": 5,
   "id": "ac5ad3ea",
   "metadata": {},
   "outputs": [
    {
     "name": "stdout",
     "output_type": "stream",
     "text": [
      "LPS array: [0, 0, 1, 2, 0, 1, 2, 3, 4]\n",
      "Pattern found at index 10\n"
     ]
    }
   ],
   "source": [
    "def LPS(p, m, lps):\n",
    "    length = 0  # length of the previous longest prefix suffix\n",
    "    lps[0] = 0  # lps[0] is always 0\n",
    "    i = 1\n",
    "\n",
    "    while i < m:\n",
    "        if p[i] == p[length]:\n",
    "            length += 1\n",
    "            lps[i] = length\n",
    "            i += 1\n",
    "        else:\n",
    "            if length != 0:\n",
    "                length = lps[length - 1]\n",
    "            else:\n",
    "                lps[i] = 0\n",
    "                i += 1\n",
    "\n",
    "def KMPAlgo(p, s):\n",
    "    m = len(p)\n",
    "    n = len(s)\n",
    "    lps = [0] * m  # lps array to hold the longest prefix suffix values for pattern\n",
    "    LPS(p, m, lps)\n",
    "    print(\"LPS array:\", lps)\n",
    "    \n",
    "    i = 0  # index for s[]\n",
    "    j = 0  # index for p[]\n",
    "    \n",
    "    while (n - i) >= (m - j):\n",
    "        if p[j] == s[i]:\n",
    "            i += 1\n",
    "            j += 1\n",
    "            \n",
    "        if j == m:\n",
    "            print(\"Pattern found at index\", i - j)\n",
    "            j = lps[j - 1]\n",
    "            \n",
    "        elif i < n and p[j] != s[i]:\n",
    "            if j != 0:\n",
    "                j = lps[j - 1]\n",
    "            else:\n",
    "                i += 1\n",
    "\n",
    "# Example usage\n",
    "s = \"ABABDABACDABABCABAB\"\n",
    "p = \"ABABCABAB\"\n",
    "KMPAlgo(p, s)\n"
   ]
  },
  {
   "cell_type": "markdown",
   "id": "e7c0422b",
   "metadata": {},
   "source": [
    "#### Tower of Hanoi"
   ]
  },
  {
   "cell_type": "code",
   "execution_count": 7,
   "id": "102cb5c0",
   "metadata": {},
   "outputs": [
    {
     "name": "stdout",
     "output_type": "stream",
     "text": [
      "move 1 from a to b\n",
      "move 2 from a to b\n",
      "move 1 from c to a\n",
      "move 3 from a to b\n",
      "move 1 from c to a\n",
      "move 2 from c to a\n",
      "move 1 from b to c\n",
      "[7]\n"
     ]
    }
   ],
   "source": [
    "ctr=[0] #to update the count with  in recursive call.It is a pointer to paricular data structure\n",
    "def tower(n,frm,aux,to,ctr):\n",
    "    if n==0:\n",
    "        return\n",
    "    tower(n-1,frm,aux,to,ctr)\n",
    "    print(f\"move {n} from {frm} to {to}\")\n",
    "    ctr[0]+=1\n",
    "    tower(n-1,aux,to,frm,ctr)\n",
    "n=3\n",
    "tower(n,'a','c','b',ctr)\n",
    "print(ctr)"
   ]
  },
  {
   "cell_type": "code",
   "execution_count": null,
   "id": "b60b052c",
   "metadata": {},
   "outputs": [],
   "source": []
  }
 ],
 "metadata": {
  "kernelspec": {
   "display_name": "Python 3 (ipykernel)",
   "language": "python",
   "name": "python3"
  },
  "language_info": {
   "codemirror_mode": {
    "name": "ipython",
    "version": 3
   },
   "file_extension": ".py",
   "mimetype": "text/x-python",
   "name": "python",
   "nbconvert_exporter": "python",
   "pygments_lexer": "ipython3",
   "version": "3.11.5"
  }
 },
 "nbformat": 4,
 "nbformat_minor": 5
}
