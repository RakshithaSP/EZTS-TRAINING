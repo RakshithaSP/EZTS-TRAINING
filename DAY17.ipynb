{
 "cells": [
  {
   "cell_type": "markdown",
   "id": "07063b64",
   "metadata": {},
   "source": [
    "#### Greedy search algorithm is used here to solve the best path in the given matrix to reach destination wrt to it's start giving the condition the moves include only right and down"
   ]
  },
  {
   "cell_type": "code",
   "execution_count": 17,
   "id": "0bc3aceb",
   "metadata": {},
   "outputs": [
    {
     "name": "stdout",
     "output_type": "stream",
     "text": [
      "14\n"
     ]
    }
   ],
   "source": [
    "#Greedy approach\n",
    "Matrix = [\n",
    "    [1, 2, 2, 3],\n",
    "    [3, 1, 4, 2],\n",
    "    [1, 5, 3, 3],\n",
    "    [1, 2, 1, 1]\n",
    "     \n",
    "]\n",
    "n = len(Matrix) - 1\n",
    "m = len(Matrix[0]) - 1\n",
    "i = j = 0\n",
    "sum = Matrix[i][j]  # start point (0,0)\n",
    "\n",
    "while i < n or j < m:  # i=row, j=column\n",
    "    if i == n:\n",
    "        j += 1\n",
    "    elif j == m:\n",
    "        i += 1\n",
    "    elif Matrix[i][j+1] < Matrix[i+1][j]:\n",
    "        j += 1\n",
    "    else:\n",
    "        i += 1\n",
    "    sum += Matrix[i][j]\n",
    "\n",
    "print(sum) \n"
   ]
  },
  {
   "cell_type": "code",
   "execution_count": 18,
   "id": "512fc479",
   "metadata": {},
   "outputs": [
    {
     "name": "stdout",
     "output_type": "stream",
     "text": [
      "Shortest Best Distance Travelled to Reach Destination: 43\n"
     ]
    }
   ],
   "source": [
    " #Dynamic Programming approach\n",
    "matrix = [\n",
    "    [1, 3, 5, 8],\n",
    "    [4, 4, 8, 10],\n",
    "    [5, 9, 11, 13],\n",
    "    [6, 8, 9, 10]\n",
    "]\n",
    "\n",
    "def min_path_sum(matrix):\n",
    "    rows = len(matrix)\n",
    "    cols = len(matrix[0])\n",
    "    dp = [[0] * cols for _ in range(rows)]\n",
    "    dp[0][0] = matrix[0][0]\n",
    "    \n",
    "    # Initialize first row\n",
    "    for j in range(1, cols):\n",
    "        dp[0][j] = dp[0][j-1] + matrix[0][j]\n",
    "    \n",
    "    # Initialize first column\n",
    "    for i in range(1, rows):\n",
    "        dp[i][0] = dp[i-1][0] + matrix[i][0]\n",
    "    \n",
    "    # Fill the dp table\n",
    "    for i in range(1, rows):\n",
    "        for j in range(1, cols):\n",
    "            dp[i][j] = matrix[i][j] + min(dp[i-1][j], dp[i][j-1])\n",
    "    \n",
    "    # Return the minimum path sum to the bottom-right corner\n",
    "    return dp[rows-1][cols-1]\n",
    "\n",
    "best_distance = min_path_sum(matrix)\n",
    "print(\"Shortest Best Distance Travelled to Reach Destination:\", best_distance)\n"
   ]
  }
 ],
 "metadata": {
  "kernelspec": {
   "display_name": "Python 3 (ipykernel)",
   "language": "python",
   "name": "python3"
  },
  "language_info": {
   "codemirror_mode": {
    "name": "ipython",
    "version": 3
   },
   "file_extension": ".py",
   "mimetype": "text/x-python",
   "name": "python",
   "nbconvert_exporter": "python",
   "pygments_lexer": "ipython3",
   "version": "3.11.5"
  }
 },
 "nbformat": 4,
 "nbformat_minor": 5
}
