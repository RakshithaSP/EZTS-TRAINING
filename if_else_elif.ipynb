{
 "cells": [
  {
   "cell_type": "code",
   "execution_count": 1,
   "id": "ffcf6749",
   "metadata": {},
   "outputs": [
    {
     "name": "stdout",
     "output_type": "stream",
     "text": [
      "Enter the number: 11\n",
      "valid prime\n"
     ]
    }
   ],
   "source": [
    "m=int(input(\"Enter the number: \"))\n",
    "flag=0\n",
    "if m<0:\n",
    "    flag=1\n",
    "elif m==1:\n",
    "    flag=0\n",
    "else:\n",
    "    for i in range(2,(m//2)+1):\n",
    "        if(m%i==0):\n",
    "            flag=0\n",
    "            break\n",
    "if(flag==1):\n",
    "    print(\"invalid prime\")\n",
    "else:\n",
    "    print(\"valid prime\")\n",
    "        "
   ]
  },
  {
   "cell_type": "code",
   "execution_count": 3,
   "id": "62792759",
   "metadata": {},
   "outputs": [
    {
     "name": "stdout",
     "output_type": "stream",
     "text": [
      "input range:5\n",
      "0\n",
      "1\n",
      "1\n",
      "2\n",
      "3\n"
     ]
    }
   ],
   "source": [
    "#fibanocci series\n",
    "n=int(input(\"input range:\"))\n",
    "a=0\n",
    "b=1\n",
    "c=a+b\n",
    "if n==1:\n",
    "    print(a)\n",
    "elif n==2:\n",
    "    print(a)\n",
    "    print(b)\n",
    "else:\n",
    "    print(a)\n",
    "    print(b)\n",
    "    for i in range(2,n):\n",
    "        print(c)\n",
    "        a=b\n",
    "        b=c\n",
    "        c=a+b    "
   ]
  },
  {
   "cell_type": "code",
   "execution_count": 4,
   "id": "bd5f2280",
   "metadata": {},
   "outputs": [
    {
     "name": "stdout",
     "output_type": "stream",
     "text": [
      "enter number: 7\n",
      "(11, 27, False)\n"
     ]
    }
   ],
   "source": [
    "#next smallest prime number k larger than N\n",
    "# N(k)---(k+1)----->p1-----(k=p1+1)------->p2\n",
    "def check_prime(m):\n",
    "    flag=0  #because to find the next smallest prime number limit\n",
    "    if m<1:\n",
    "        flag=1\n",
    "    elif m==1:\n",
    "        flag=0\n",
    "    else:\n",
    "        for i in range(2,(m//2)+1):\n",
    "            if m%i==0:\n",
    "                flag=1\n",
    "                break\n",
    "    if(flag==0):\n",
    "        return 1\n",
    "    else:\n",
    "        return 0  \n",
    "result=[]    \n",
    "N=int(input(\"enter number: \"))\n",
    "flag=0\n",
    "k=N+1 #next prime number\n",
    "while flag<1:  #we don't have upper limit so use while loop()\n",
    "    flag=check_prime(k)\n",
    "    if flag==1:\n",
    "        result.append(k)\n",
    "    else:\n",
    "        k=k+1\n",
    "        \n",
    "        \n",
    "        \n",
    "#Sum of numbers between prime number k and it's next prime number of k\n",
    "\n",
    "sum=0\n",
    "for i in range(N+1,k):\n",
    "    sum+=i\n",
    "result.append(sum)\n",
    "\n",
    "#to get next prime number of the smallest prime  number p1 i.e(N-->p1--->p2)\n",
    "p1=k\n",
    "flag=0\n",
    "k=p1+1\n",
    "while flag<1:\n",
    "    flag=check_prime(k)\n",
    "    if flag==1:\n",
    "        p2=k\n",
    "    else:\n",
    "        k=k+1\n",
    "        \n",
    "        \n",
    "        \n",
    "#check the product of k and k+1 prime numbers is prime number or not\n",
    "\n",
    "p3=p1*p2\n",
    "flag=check_prime(p3)\n",
    "if flag==0:\n",
    "    result.append(False)\n",
    "else:\n",
    "    result.append(True)\n",
    "prime_key=tuple(result)  #convert list into tuple\n",
    "print(prime_key)"
   ]
  },
  {
   "cell_type": "code",
   "execution_count": null,
   "id": "664c49f5",
   "metadata": {},
   "outputs": [],
   "source": [
    "#numner of task completed with the given time left such that for each task completion it \n",
    "tl=int(input(\"enter the time left\"))\n",
    "for i in range(0,10):\n",
    "    t=(i+1)*5\n",
    "    if (tl-t)<0:\n",
    "        print(\"problem solved\",i)\n",
    "        break\n",
    "    else:\n",
    "        tl=tl-t\n",
    "    \n"
   ]
  }
 ],
 "metadata": {
  "kernelspec": {
   "display_name": "Python 3 (ipykernel)",
   "language": "python",
   "name": "python3"
  },
  "language_info": {
   "codemirror_mode": {
    "name": "ipython",
    "version": 3
   },
   "file_extension": ".py",
   "mimetype": "text/x-python",
   "name": "python",
   "nbconvert_exporter": "python",
   "pygments_lexer": "ipython3",
   "version": "3.11.5"
  }
 },
 "nbformat": 4,
 "nbformat_minor": 5
}
