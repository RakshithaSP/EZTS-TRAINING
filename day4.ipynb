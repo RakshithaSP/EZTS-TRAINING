{
 "cells": [
  {
   "cell_type": "code",
   "execution_count": 2,
   "id": "7aaf1bce",
   "metadata": {},
   "outputs": [
    {
     "name": "stdout",
     "output_type": "stream",
     "text": [
      "Enter the number of students: 2\n",
      "enter the name and sentence:abc,hi hello\n",
      "['abc', 'hi hello']\n",
      "enter the name and sentence:xyz,let's go \n",
      "['xyz', \"let's go \"]\n"
     ]
    }
   ],
   "source": [
    "s=int(input(\"Enter the number of students: \"))\n",
    "for i in range(0,s):\n",
    "    l=name,sentence=[str(i) for i in input(\"enter the name and sentence:\").split(\",\")]\n",
    "    print(l)"
   ]
  },
  {
   "cell_type": "code",
   "execution_count": 3,
   "id": "97360b6f",
   "metadata": {},
   "outputs": [
    {
     "name": "stdout",
     "output_type": "stream",
     "text": [
      "beautiful day\n",
      "['U']\n"
     ]
    }
   ],
   "source": [
    "s=input()\n",
    "dic={\"A\":0,\"E\":1,\"I\":2,\"O\":3,\"U\":4}\n",
    "for i in s:\n",
    "    if i=='a' or i==\"A\":\n",
    "        dic['A']+=1\n",
    "    elif i=='E' or i==\"e\":\n",
    "        dic['E']+=1\n",
    "    elif i=='I' or i==\"i\":\n",
    "        dic['I']+=1\n",
    "    elif i=='O' or i==\"o\":\n",
    "        dic['O']+=1\n",
    "    elif i=='U' or i==\"u\":\n",
    "        dic['U']+=1\n",
    "x=max(dic.values())\n",
    "result=[]\n",
    "for i,j in dic.items():\n",
    "    if j==x:\n",
    "        result.append(i)\n",
    "print(result)\n",
    "     "
   ]
  },
  {
   "cell_type": "code",
   "execution_count": 4,
   "id": "6727dac0",
   "metadata": {},
   "outputs": [
    {
     "name": "stdout",
     "output_type": "stream",
     "text": [
      "{'jade': ['O', 'U'], 'jack': ['I', 'U'], 'reta': ['U']}\n"
     ]
    }
   ],
   "source": [
    "### Count of vowel occurence with the key return having maximum occurence in a list\n",
    "#Count of vowel occurence with the key return having maximum occurence in a list\n",
    "def count_vowel(s):  #input is a list of list\n",
    "    dic={\"A\":0,\"E\":1,\"I\":2,\"O\":3,\"U\":4}\n",
    "    for i in s:\n",
    "        if i=='a' or i==\"A\":\n",
    "            dic['A']+=1\n",
    "        elif i=='E' or i==\"e\":\n",
    "            dic['E']+=1\n",
    "        elif i=='I' or i==\"i\":\n",
    "            dic['I']+=1\n",
    "        elif i=='O' or i==\"o\":\n",
    "            dic['O']+=1\n",
    "        elif i=='U' or i==\"u\":\n",
    "            dic['U']+=1\n",
    "    x=max(dic.values()) #count the maximum occurence of vowels\n",
    "    result=[]\n",
    "    for i,j in dic.items():\n",
    "        if j==x:\n",
    "            result.append(i) #return the result in list as of key of that value\n",
    "    return result\n",
    "\n",
    "l_p=[[\"jade\",\"hi how are you\"],[\"jack\",\"i am fine\"],[\"reta\",\"such a nice weather\"]]\n",
    "o_p={}\n",
    "for i in l_p:\n",
    "    o_p[i[0]]=count_vowel(i[1]) #{i[0]=key,i[1]=value} \n",
    "print(o_p)\n",
    "    "
   ]
  },
  {
   "cell_type": "code",
   "execution_count": 5,
   "id": "f47adfa2",
   "metadata": {},
   "outputs": [
    {
     "name": "stdout",
     "output_type": "stream",
     "text": [
      "17\n",
      "4 6 7\n"
     ]
    }
   ],
   "source": [
    "# given an integer array,your task is to find the 3 contineous digits which gives you the maximim sum\n",
    "l=[2,4,3,5,6,3,4,6,7,1,2,5]\n",
    "sum=max=0\n",
    "for i in range(0,len(l)-2):\n",
    "    sum=l[i]+l[i+1]+l[i+2]\n",
    "    if max<sum:\n",
    "        max=sum\n",
    "        pos=i\n",
    "print(max)\n",
    "print(l[pos],l[pos+1],l[pos+2])"
   ]
  },
  {
   "cell_type": "code",
   "execution_count": 6,
   "id": "3bf79b30",
   "metadata": {},
   "outputs": [
    {
     "name": "stdout",
     "output_type": "stream",
     "text": [
      "enter the list elements:2,3,4,5\n",
      "enter range:2\n",
      "9\n",
      "4\n",
      "5\n"
     ]
    }
   ],
   "source": [
    "#given an integer array,ur task is to find the k contineous digits which give you the maximum sum\n",
    "l=[int(i) for i in input(\"enter the list elements:\").split(',')]\n",
    "sum=max=0\n",
    "k=int(input(\"enter range:\"))\n",
    "for i in range(0,len(l)-k+1):   #As sum of 3 numbers is stored in windows so to compare remaing other elements sum we do n-k\n",
    "    sum=0                       #and as range starts from 0 index so we add +1 to make it easier comparing\n",
    "    for j in range(0,k): \n",
    "        sum+=l[i+j]\n",
    "        if max<sum:\n",
    "            max=sum\n",
    "            pos=i\n",
    "print(max)\n",
    "for j in range(0,k):\n",
    "    print(l[pos+j])"
   ]
  },
  {
   "cell_type": "code",
   "execution_count": 7,
   "id": "aa5ce8fd",
   "metadata": {},
   "outputs": [
    {
     "name": "stdout",
     "output_type": "stream",
     "text": [
      "enter the list:1,2,3,4,5,1\n",
      "6\n"
     ]
    }
   ],
   "source": [
    "l=[int(i) for i in input(\"enter the list:\").split(',')]\n",
    "flag=1\n",
    "for i in range(0,len(l)):\n",
    "    for j in range(0,len(l)-1):\n",
    "        if l[i]==l[j]:\n",
    "            flag=0\n",
    "            break\n",
    "i+=1\n",
    "            \n",
    "if flag==0:\n",
    "    print(i)\n",
    "else:\n",
    "    print(-1)\n",
    "    \n",
    "    \n",
    "    "
   ]
  },
  {
   "cell_type": "code",
   "execution_count": null,
   "id": "6028be0e",
   "metadata": {},
   "outputs": [],
   "source": []
  }
 ],
 "metadata": {
  "kernelspec": {
   "display_name": "Python 3 (ipykernel)",
   "language": "python",
   "name": "python3"
  },
  "language_info": {
   "codemirror_mode": {
    "name": "ipython",
    "version": 3
   },
   "file_extension": ".py",
   "mimetype": "text/x-python",
   "name": "python",
   "nbconvert_exporter": "python",
   "pygments_lexer": "ipython3",
   "version": "3.11.5"
  }
 },
 "nbformat": 4,
 "nbformat_minor": 5
}
