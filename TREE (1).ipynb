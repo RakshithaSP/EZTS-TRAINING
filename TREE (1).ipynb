{
 "cells": [
  {
   "cell_type": "code",
   "execution_count": 8,
   "id": "009c3061",
   "metadata": {},
   "outputs": [
    {
     "name": "stdout",
     "output_type": "stream",
     "text": [
      "preorder\n",
      "1\n",
      "2\n",
      "4\n",
      "5\n",
      "3\n",
      "6\n",
      "7\n",
      "inorder\n",
      "4\n",
      "2\n",
      "5\n",
      "1\n",
      "6\n",
      "3\n",
      "7\n",
      "postorder\n",
      "4\n",
      "5\n",
      "2\n",
      "6\n",
      "7\n",
      "3\n",
      "1\n"
     ]
    }
   ],
   "source": [
    "class Node:\n",
    "    def __init__(self,data):\n",
    "        self.value=data\n",
    "        self.left=None\n",
    "        self.right=None\n",
    "def preorder(root):\n",
    "    if root==None:\n",
    "        return\n",
    "    print(root.value)\n",
    "    preorder(root.left)\n",
    "    preorder(root.right)\n",
    "def inorder(root):\n",
    "    if root==None:\n",
    "        return\n",
    "    inorder(root.left)\n",
    "    print(root.value)\n",
    "    inorder(root.right)\n",
    "def postorder(root):\n",
    "    if root==None:\n",
    "        return\n",
    "    postorder(root.left)\n",
    "    postorder(root.right)\n",
    "    print(root.value)\n",
    "\n",
    "if __name__==\"__main__\":\n",
    "    root=Node(1)\n",
    "    root.left=Node(2)\n",
    "    root.right=Node(3)\n",
    "    root.left.left=Node(4)\n",
    "    root.left.right=Node(5)\n",
    "    root.right.left=Node(6)\n",
    "    root.right.right=Node(7)\n",
    "    print(\"preorder\")\n",
    "    preorder(root)\n",
    "    print(\"inorder\")\n",
    "    inorder(root)\n",
    "    print(\"postorder\")\n",
    "    postorder(root)\n",
    "    "
   ]
  },
  {
   "cell_type": "code",
   "execution_count": 12,
   "id": "af2b06cf",
   "metadata": {},
   "outputs": [
    {
     "name": "stdout",
     "output_type": "stream",
     "text": [
      "level order\n",
      "1 \n",
      "2 3 \n",
      "4 5 6 7 \n",
      "9 10 11 \n",
      "12 13 "
     ]
    }
   ],
   "source": [
    "class Node:\n",
    "    def __init__(self,data):\n",
    "        self.value=data\n",
    "        self.left=None\n",
    "        self.right=None\n",
    "def levelorder(root):\n",
    "    q=[root]\n",
    "    q.append(None)\n",
    "    while len(q)>0: #queue not empty\n",
    "        curr=q.pop(0)\n",
    "        if curr==None:\n",
    "            if len(q)==0:\n",
    "                return\n",
    "            else:\n",
    "                print()\n",
    "                q.append(None)\n",
    "        else:\n",
    "            print(curr.value,end=\" \")\n",
    "            if curr.left!=None:\n",
    "                q.append(curr.left)\n",
    "            if curr.right!=None:\n",
    "                q.append(curr.right)\n",
    "\n",
    "if __name__==\"__main__\":\n",
    "    root=Node(1)\n",
    "    root.left=Node(2)\n",
    "    root.right=Node(3)\n",
    "    root.left.left=Node(4)\n",
    "    root.left.right=Node(5)\n",
    "    root.right.left=Node(6)\n",
    "    root.right.right=Node(7)\n",
    "    root.left.right.left=Node(9)\n",
    "    root.left.right.right=Node(10)\n",
    "    root.right.right.right=Node(11)\n",
    "    root.left.right.left.left=Node(12)\n",
    "    root.left.right.left.right=Node(13)\n",
    "    print(\"level order\")\n",
    "    levelorder(root)\n",
    "    "
   ]
  },
  {
   "cell_type": "code",
   "execution_count": 13,
   "id": "241934cd",
   "metadata": {},
   "outputs": [
    {
     "name": "stdout",
     "output_type": "stream",
     "text": [
      "height\n"
     ]
    },
    {
     "data": {
      "text/plain": [
       "5"
      ]
     },
     "execution_count": 13,
     "metadata": {},
     "output_type": "execute_result"
    }
   ],
   "source": [
    "class Node:\n",
    "    def __init__(self,data):\n",
    "        self.value=data\n",
    "        self.left=None\n",
    "        self.right=None\n",
    "def height(root):\n",
    "    if root==None:\n",
    "        return 0\n",
    "    lh=height(root.left)\n",
    "    rh=height(root.right)\n",
    "    return max(lh,rh)+1\n",
    "if __name__==\"__main__\":\n",
    "    root=Node(1)\n",
    "    root.left=Node(2)\n",
    "    root.right=Node(3)\n",
    "    root.left.left=Node(4)\n",
    "    root.left.right=Node(5)\n",
    "    root.right.left=Node(6)\n",
    "    root.right.right=Node(7)\n",
    "    root.left.right.left=Node(9)\n",
    "    root.left.right.right=Node(10)\n",
    "    root.right.right.right=Node(11)\n",
    "    root.left.right.left.left=Node(12)\n",
    "    root.left.right.left.right=Node(13)\n",
    "    print(\"height\")\n",
    "height(root)\n",
    "\n",
    "    "
   ]
  },
  {
   "cell_type": "markdown",
   "id": "3c9d7d90",
   "metadata": {},
   "source": [
    "### TOP VIEW"
   ]
  },
  {
   "cell_type": "code",
   "execution_count": 14,
   "id": "217c8f5a",
   "metadata": {},
   "outputs": [
    {
     "name": "stdout",
     "output_type": "stream",
     "text": [
      "4\n",
      "2\n",
      "1\n",
      "3\n",
      "7\n",
      "11\n",
      "{0: 1, -1: 2, 1: 3, -2: 4, 2: 7, 3: 11}\n"
     ]
    }
   ],
   "source": [
    "#VIEW\n",
    "#Top view \n",
    "\n",
    "class node_data:\n",
    "    def __init__(self,Node,HKey):\n",
    "        self.node=Node\n",
    "        self.hkey=HKey\n",
    "\n",
    "def topview(root):        \n",
    "    temp=node_data(root,0) \n",
    "    Q=[temp]\n",
    "    Q.append(None)\n",
    "    Key_Dict = {}\n",
    "    while len(Q) != 0:\n",
    "        curr = Q.pop(0)\n",
    "        \n",
    "        if curr == None:\n",
    "            if len(Q) == 0:\n",
    "                break\n",
    "            else:\n",
    "                Q.append(None)\n",
    "        else:\n",
    "            if curr.hkey not in Key_Dict.keys():\n",
    "                Key_Dict[curr.hkey] = curr.node.value\n",
    "            \n",
    "            if curr.node.left != None:\n",
    "                temp = node_data(curr.node.left,curr.hkey-1)\n",
    "                Q.append(temp)\n",
    "            \n",
    "            if curr.node.right != None:\n",
    "                temp = node_data(curr.node.right,curr.hkey+1)\n",
    "                Q.append(temp)\n",
    "    for i in sorted(Key_Dict):\n",
    "        print(Key_Dict[i])\n",
    "    print(Key_Dict)\n",
    "topview(root)"
   ]
  },
  {
   "cell_type": "markdown",
   "id": "53e64aab",
   "metadata": {},
   "source": [
    "#### BOTTOM VIEW"
   ]
  },
  {
   "cell_type": "code",
   "execution_count": 19,
   "id": "d0512e8b",
   "metadata": {},
   "outputs": [
    {
     "name": "stdout",
     "output_type": "stream",
     "text": [
      "12\n",
      "9\n",
      "13\n",
      "10\n",
      "7\n",
      "11\n",
      "{0: 13, -1: 9, 1: 10, -2: 12, 2: 7, 3: 11}\n"
     ]
    }
   ],
   "source": [
    "#VIEW\n",
    "#bottom view \n",
    "\n",
    "class node_data:\n",
    "    def __init__(self,Node,HKey):\n",
    "        self.node=Node\n",
    "        self.hkey=HKey\n",
    "\n",
    "def topview(root):        \n",
    "    temp=node_data(root,0) \n",
    "    Q=[temp]\n",
    "    Q.append(None)\n",
    "    Key_Dict = {}\n",
    "    while len(Q) != 0:\n",
    "        curr = Q.pop(0)\n",
    "        \n",
    "        if curr == None:\n",
    "            if len(Q) == 0:\n",
    "                break\n",
    "            else:\n",
    "                Q.append(None)\n",
    "        else:\n",
    "        \n",
    "            Key_Dict[curr.hkey] = curr.node.value\n",
    "            \n",
    "            if curr.node.left != None:\n",
    "                temp = node_data(curr.node.left,curr.hkey-1)\n",
    "                Q.append(temp)\n",
    "            \n",
    "            if curr.node.right != None:\n",
    "                temp = node_data(curr.node.right,curr.hkey+1)\n",
    "                Q.append(temp)\n",
    "    for i in sorted(Key_Dict):\n",
    "        print(Key_Dict[i])\n",
    "    print(Key_Dict)\n",
    "topview(root)"
   ]
  },
  {
   "cell_type": "markdown",
   "id": "5637341d",
   "metadata": {},
   "source": [
    "#### LEFT VIEW"
   ]
  },
  {
   "cell_type": "code",
   "execution_count": 24,
   "id": "a9fce76b",
   "metadata": {},
   "outputs": [
    {
     "name": "stdout",
     "output_type": "stream",
     "text": [
      "Left view\n",
      "1\n",
      "2\n",
      "4\n",
      "9\n",
      "12\n"
     ]
    }
   ],
   "source": [
    "#LEFT VIEW OF A TREE---USE THE LEVEL ORDER CODE \n",
    "class Node:\n",
    "    def __init__(self,data):\n",
    "        self.value=data\n",
    "        self.left=None\n",
    "        self.right=None\n",
    "def levelorder(root):\n",
    "    q=[root]\n",
    "    q.append(None)\n",
    "    while len(q)>0: #queue not empty\n",
    "        curr=q.pop(0)\n",
    "        if curr==None:\n",
    "            if len(q)==0:\n",
    "                return\n",
    "            else:\n",
    "                print(q[0].value)\n",
    "                q.append(None)\n",
    "        else:\n",
    "            if curr.left!=None:\n",
    "                q.append(curr.left)\n",
    "            if curr.right!=None:\n",
    "                q.append(curr.right)\n",
    "\n",
    "if __name__==\"__main__\":\n",
    "    root=Node(1)\n",
    "    root.left=Node(2)\n",
    "    root.right=Node(3)\n",
    "    root.left.left=Node(4)\n",
    "    root.left.right=Node(5)\n",
    "    root.right.left=Node(6)\n",
    "    root.right.right=Node(7)\n",
    "    root.left.right.left=Node(9)\n",
    "    root.left.right.right=Node(10)\n",
    "    root.right.right.right=Node(11)\n",
    "    root.left.right.left.left=Node(12)\n",
    "    root.left.right.left.right=Node(13)\n",
    "    print(\"Left view\")\n",
    "    print(root.value)\n",
    "    levelorder(root)\n",
    "    \n",
    "    \n",
    "    "
   ]
  },
  {
   "cell_type": "code",
   "execution_count": null,
   "id": "879a054d",
   "metadata": {},
   "outputs": [],
   "source": []
  },
  {
   "cell_type": "code",
   "execution_count": null,
   "id": "fcb544df",
   "metadata": {},
   "outputs": [],
   "source": []
  }
 ],
 "metadata": {
  "kernelspec": {
   "display_name": "Python 3 (ipykernel)",
   "language": "python",
   "name": "python3"
  },
  "language_info": {
   "codemirror_mode": {
    "name": "ipython",
    "version": 3
   },
   "file_extension": ".py",
   "mimetype": "text/x-python",
   "name": "python",
   "nbconvert_exporter": "python",
   "pygments_lexer": "ipython3",
   "version": "3.11.5"
  }
 },
 "nbformat": 4,
 "nbformat_minor": 5
}
