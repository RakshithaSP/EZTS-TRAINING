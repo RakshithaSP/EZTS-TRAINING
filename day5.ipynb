{
 "cells": [
  {
   "cell_type": "code",
   "execution_count": 4,
   "id": "18de127f",
   "metadata": {},
   "outputs": [
    {
     "name": "stdout",
     "output_type": "stream",
     "text": [
      "[10, 20, 30, 40]\n",
      "[10, 20, 30]\n"
     ]
    }
   ],
   "source": [
    "class Stack:\n",
    "    def __init__(self):\n",
    "        self.items=[]\n",
    "    def push(self,data):\n",
    "        self.items.append(data)\n",
    "    def pop(self):\n",
    "        return self.items.pop()\n",
    "    def size(self):\n",
    "        return len(self.items)\n",
    "st=Stack()\n",
    "st.push(10)\n",
    "st.push(20)\n",
    "st.push(30)\n",
    "st.push(40)\n",
    "print(st.items)\n",
    "st.pop()\n",
    "print(st.items)"
   ]
  },
  {
   "cell_type": "code",
   "execution_count": 5,
   "id": "8b116042",
   "metadata": {},
   "outputs": [
    {
     "name": "stdout",
     "output_type": "stream",
     "text": [
      "valid\n"
     ]
    }
   ],
   "source": [
    "e=\"[3+7{52/11(3+5)}]\"\n",
    "s=Stack()\n",
    "ob=\"[{(\"\n",
    "cb=\")}]\"\n",
    "flag=0\n",
    "for i in e:\n",
    "    if i in ob:\n",
    "        s.push(i)\n",
    "    if i in cb:\n",
    "        x=s.pop()\n",
    "        if x=='(' and i==\")\":\n",
    "            pass\n",
    "        elif x==\"{\" and i==\"}\":\n",
    "            pass\n",
    "        elif x==\"[\" and i==']':\n",
    "            pass\n",
    "        else:\n",
    "            flag=1\n",
    "            break\n",
    "if flag==0 and s.size()==0:\n",
    "    print(\"valid\")\n",
    "else:\n",
    "    print(\"invalid\")\n",
    "        \n",
    "        "
   ]
  },
  {
   "cell_type": "code",
   "execution_count": 6,
   "id": "40cf6b20",
   "metadata": {},
   "outputs": [
    {
     "name": "stdout",
     "output_type": "stream",
     "text": [
      "[5, 14, 14, -1, 7, 7, 9, -1, 6, 9, -1, 5, 5, -1, -1]\n"
     ]
    }
   ],
   "source": [
    "class Stack:\n",
    "    def __init__(self):\n",
    "        self.items=[]\n",
    "    def push(self,data):\n",
    "        self.items.append(data)\n",
    "    def pop(self):\n",
    "        return self.items.pop()\n",
    "    def size(self):\n",
    "        return len(self.items)\n",
    "    def top(self):\n",
    "        return self.items[-1]\n",
    "L=[3,5,2,14,5,3,7,9,4,6,9,4,2,5,3]\n",
    "o=[0]*len(L)\n",
    "s=Stack()\n",
    "for i in range(len(L)-1,-1,-1):\n",
    "    if s.size()!=0:\n",
    "        \n",
    "        while s.size() !=0 and s.top()<=L[i]:\n",
    "            if s.top()<=L[i]:\n",
    "                s.pop()\n",
    "    if s.size()==0:\n",
    "        o[i]=-1\n",
    "    else:\n",
    "        o[i]=s.top()\n",
    "    s.push(L[i])\n",
    "print(o)\n",
    "    "
   ]
  },
  {
   "cell_type": "code",
   "execution_count": 7,
   "id": "91a81ddb",
   "metadata": {},
   "outputs": [
    {
     "name": "stdout",
     "output_type": "stream",
     "text": [
      "0 -> 1 -> 2 -> 3 -> None\n"
     ]
    }
   ],
   "source": [
    "class Node:\n",
    "    def __init__(self, data=None):\n",
    "        self.data = data\n",
    "        self.next = None\n",
    "\n",
    "class LinkedList:\n",
    "    def __init__(self):\n",
    "        self.head = None\n",
    "\n",
    "# Example usage:\n",
    "\n",
    "# Creating the linked list and nodes\n",
    "ll = LinkedList()\n",
    "\n",
    "# Manually creating and linking nodes\n",
    "first_node = Node(0)\n",
    "second_node = Node(1)\n",
    "third_node = Node(2)\n",
    "fourth_node = Node(3)\n",
    "\n",
    "# Linking nodes together\n",
    "ll.head = first_node\n",
    "first_node.next = second_node\n",
    "second_node.next = third_node\n",
    "third_node.next = fourth_node\n",
    "\n",
    "# Printing the list\n",
    "current = ll.head\n",
    "while current:\n",
    "    print(current.data, end=\" -> \")\n",
    "    current = current.next\n",
    "print(\"None\")\n"
   ]
  },
  {
   "cell_type": "code",
   "execution_count": 8,
   "id": "e1c92811",
   "metadata": {},
   "outputs": [
    {
     "name": "stdout",
     "output_type": "stream",
     "text": [
      "2+3\n",
      "Operation: addition\n",
      "Result: 5.0\n"
     ]
    }
   ],
   "source": [
    "s = input()\n",
    "op = [\"+\", \"-\", \"*\", \"/\", \"//\", \"%\"]\n",
    "for i in s:\n",
    "    if i in op:\n",
    "        x = i\n",
    "        s = s.replace(i, \" \")\n",
    "l = list(map(float, s.split(\" \")))\n",
    "\n",
    "# Perform arithmetic operation\n",
    "result = None\n",
    "if x == '+':\n",
    "    result = l[0] + l[1]\n",
    "elif x == '-':\n",
    "    result = l[0] - l[1]\n",
    "elif x == '*':\n",
    "    result = l[0] * l[1]\n",
    "elif x == '/':\n",
    "    result = l[0] / l[1]\n",
    "elif x == '//':\n",
    "    result = l[0] // l[1]\n",
    "elif x == '%':\n",
    "    result = l[0] % l[1]\n",
    "\n",
    "# Convert result to string\n",
    "if result is not None:\n",
    "    result = str(result)\n",
    "\n",
    "# Print result and operation\n",
    "print(\"Operation:\", end=\" \")\n",
    "match x:\n",
    "    case '+':\n",
    "        print(\"addition\")\n",
    "    case '-':\n",
    "        print(\"subtraction\")\n",
    "    case \"*\":\n",
    "        print(\"multiplication\")\n",
    "    case \"/\":\n",
    "        print(\"division\")\n",
    "    case \"//\":\n",
    "        print(\"float division\")\n",
    "    case \"%\":\n",
    "        print(\"modus\")\n",
    "print(\"Result:\", result)\n"
   ]
  },
  {
   "cell_type": "code",
   "execution_count": null,
   "id": "7c3d531d",
   "metadata": {},
   "outputs": [],
   "source": []
  }
 ],
 "metadata": {
  "kernelspec": {
   "display_name": "Python 3 (ipykernel)",
   "language": "python",
   "name": "python3"
  },
  "language_info": {
   "codemirror_mode": {
    "name": "ipython",
    "version": 3
   },
   "file_extension": ".py",
   "mimetype": "text/x-python",
   "name": "python",
   "nbconvert_exporter": "python",
   "pygments_lexer": "ipython3",
   "version": "3.11.5"
  }
 },
 "nbformat": 4,
 "nbformat_minor": 5
}
