{
 "cells": [
  {
   "cell_type": "code",
   "execution_count": 1,
   "id": "c089ec7b",
   "metadata": {},
   "outputs": [
    {
     "name": "stdout",
     "output_type": "stream",
     "text": [
      "enter the numbers:10,9,5,4\n",
      "sorted list is: [4, 5, 9, 10]\n",
      "4\n",
      "Minimum element in the sorted list 4\n"
     ]
    }
   ],
   "source": [
    "#BUBBLE SORT\n",
    "L=[int(x) for x in input(\"enter the numbers:\").split(',') ]\n",
    "for i in range(0,len(L)):\n",
    "    for j in range(0,len(L)-1-i):\n",
    "        target=L[j]-1\n",
    "        if L[j]>L[j+1]:\n",
    "            L[j],L[j+1]=L[j+1],L[j]\n",
    "print(\"sorted list is:\",L)\n",
    "print(min(L))\n",
    "print(\"Minimum element in the sorted list\",target)"
   ]
  },
  {
   "cell_type": "code",
   "execution_count": 2,
   "id": "196838ea",
   "metadata": {},
   "outputs": [
    {
     "name": "stdout",
     "output_type": "stream",
     "text": [
      "enter the values:9,7,5,3,4,8,9,23\n",
      "[3, 4, 5, 7, 8, 9, 9, 23]\n"
     ]
    }
   ],
   "source": [
    "#SELECTION SORT\n",
    "l=list(map(int,input(\"enter the values:\").split(',')))\n",
    "n=len(l)\n",
    "for j in range(0,n):\n",
    "    pos=j\n",
    "    min=l[j]\n",
    "    for i in range(j,n):\n",
    "        if l[i]<min:\n",
    "            min=l[i]\n",
    "            pos=i\n",
    "    l[j],l[pos]=l[pos],l[j]\n",
    "print(l)"
   ]
  },
  {
   "cell_type": "code",
   "execution_count": 3,
   "id": "72be7c38",
   "metadata": {},
   "outputs": [
    {
     "name": "stdout",
     "output_type": "stream",
     "text": [
      "5\n",
      "3\n",
      "[0]\n"
     ]
    }
   ],
   "source": [
    "#fibanacci series\n",
    "t=[0]\n",
    "def recurr(n):\n",
    "    if n==1:\n",
    "        return 0\n",
    "    if n==2:\n",
    "        return 1\n",
    "    return recurr(n-1)+recurr(n-2)\n",
    "if __name__==\"__main__\":\n",
    "    n=int(input())\n",
    "    print(recurr(n))\n",
    "    print(t)"
   ]
  },
  {
   "cell_type": "code",
   "execution_count": 4,
   "id": "1b02a6c7",
   "metadata": {},
   "outputs": [
    {
     "name": "stdout",
     "output_type": "stream",
     "text": [
      "enter the number:5\n",
      "the factorial of 5 is 120\n",
      "[6]\n"
     ]
    }
   ],
   "source": [
    "#factorial\n",
    "def fact(n):\n",
    "    t[0]+=1\n",
    "    if n==0:\n",
    "        return 1\n",
    "    if n>0:\n",
    "        return n*fact(n-1)\n",
    "if __name__==\"__main__\":\n",
    "    n=int(input(\"enter the number:\"))\n",
    "    print(f\"the factorial of {n} is {fact(n)}\")\n",
    "    print(t)"
   ]
  },
  {
   "cell_type": "code",
   "execution_count": 5,
   "id": "0d98cfee",
   "metadata": {},
   "outputs": [
    {
     "name": "stdout",
     "output_type": "stream",
     "text": [
      "4,7,8,3,2,9,1,5\n",
      "0 7\n",
      "4 0 7\n",
      "0 0 3\n",
      "3 1 3\n",
      "1 1 2\n",
      "6 5 7\n",
      "Sorted array= [1, 2, 3, 4, 5, 7, 8, 9]\n"
     ]
    }
   ],
   "source": [
    "#quick sort\n",
    "def divide(L,Low,High):\n",
    "    p=L[High] #pivot element is last elememt in the list\n",
    "    pi=High #pivot index\n",
    "    j=Low-1\n",
    "    for i in range(Low,High):\n",
    "        if L[i]<=p:\n",
    "            j+=1\n",
    "            L[i],L[j]=L[j],L[i]\n",
    "    j+=1\n",
    "    L[j],L[pi]=L[pi],L[j]\n",
    "    pi=j\n",
    "    return pi\n",
    "def quick_sort(L,Low,High):\n",
    "    if Low<High:\n",
    "        pi=divide(L,Low,High)\n",
    "        print(pi,Low,High)\n",
    "        quick_sort(L,Low,pi-1)\n",
    "        quick_sort(L,pi+1,High)\n",
    "    return \n",
    "if __name__==\"__main__\":\n",
    "    L=list(map(int,input().split(',')))\n",
    "    Low=0\n",
    "    High=len(L)-1\n",
    "    print(Low,High)\n",
    "    quick_sort(L,Low,High)\n",
    "    print(\"Sorted array=\",L)\n"
   ]
  },
  {
   "cell_type": "code",
   "execution_count": 6,
   "id": "a053abe3",
   "metadata": {},
   "outputs": [
    {
     "name": "stdout",
     "output_type": "stream",
     "text": [
      "4 7 8 3 2 9 1 5\n",
      "Sorted Array =  [1, 2, 3, 4, 5, 7, 8, 9]\n"
     ]
    }
   ],
   "source": [
    "#merge Sort\n",
    "\n",
    "\n",
    "def merge(left,right):\n",
    "    i=j=0\n",
    "    temp=[]\n",
    "\n",
    "    while i<len(left) and j<len(right):\n",
    "        if left[i]<right[j]:\n",
    "            temp.append(left[i])\n",
    "            i+=1\n",
    "        else:\n",
    "            temp.append(right[j])\n",
    "            j+=1\n",
    "            \n",
    "    while i<len(left):\n",
    "        temp.append(left[i])\n",
    "        i+=1\n",
    "        \n",
    "    while j<len(right):\n",
    "        temp.append(right[j])\n",
    "        j+=1\n",
    "\n",
    "    return temp\n",
    "\n",
    "def mergesort(L):\n",
    "    if len(L) <= 1:\n",
    "        return L\n",
    "        \n",
    "    mid = len(L)//2\n",
    "    left=L[:mid] \n",
    "    right=L[mid:]\n",
    "    \n",
    "    left_sorted = mergesort(left)\n",
    "    right_sorted = mergesort(right)\n",
    "    \n",
    "    return merge(left_sorted,right_sorted)\n",
    "\n",
    "\n",
    "if __name__==\"__main__\":\n",
    "    L=list(map(int,input().split())) # 4 7 8 3 2 9 1 5\n",
    "    sorted=mergesort(L)\n",
    "\n",
    "    print(\"Sorted Array = \",sorted)"
   ]
  },
  {
   "cell_type": "code",
   "execution_count": null,
   "id": "ac121423",
   "metadata": {},
   "outputs": [],
   "source": []
  }
 ],
 "metadata": {
  "kernelspec": {
   "display_name": "Python 3 (ipykernel)",
   "language": "python",
   "name": "python3"
  },
  "language_info": {
   "codemirror_mode": {
    "name": "ipython",
    "version": 3
   },
   "file_extension": ".py",
   "mimetype": "text/x-python",
   "name": "python",
   "nbconvert_exporter": "python",
   "pygments_lexer": "ipython3",
   "version": "3.11.5"
  }
 },
 "nbformat": 4,
 "nbformat_minor": 5
}
