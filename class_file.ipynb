{
 "cells": [
  {
   "cell_type": "code",
   "execution_count": 1,
   "id": "24e862e8",
   "metadata": {},
   "outputs": [
    {
     "name": "stdout",
     "output_type": "stream",
     "text": [
      "kushal 24 M\n"
     ]
    }
   ],
   "source": [
    "#class\n",
    "class Student:\n",
    "    def __init__(self,nm,ag,gn):    #(double underscore __) is private\n",
    "        self.name=nm                #self is universal locater to locate the current object of that class\n",
    "        self.age=ag\n",
    "        self.gender=gn\n",
    "st1=Student(\"kushal\",24,'M')\n",
    "print(st1.name,st1.age,st1.gender)\n",
    "        "
   ]
  },
  {
   "cell_type": "code",
   "execution_count": 2,
   "id": "cfaa6704",
   "metadata": {},
   "outputs": [
    {
     "name": "stdout",
     "output_type": "stream",
     "text": [
      "Enter your name:wxy\n",
      "Enter your age:23\n",
      "Enter your gender:f\n",
      "wxy 23 f\n"
     ]
    }
   ],
   "source": [
    "class Std:\n",
    "    def __init__(self):\n",
    "        self.name=None\n",
    "        self.age=None\n",
    "        self.gender=None\n",
    "st2=Std()\n",
    "st2.name=input(\"Enter your name:\")\n",
    "st2.age=int(input(\"Enter your age:\"))\n",
    "st2.gender=input(\"Enter your gender:\")\n",
    "print(st2.name,st2.age,st2.gender)"
   ]
  },
  {
   "cell_type": "code",
   "execution_count": 3,
   "id": "2d6e4f9f",
   "metadata": {},
   "outputs": [
    {
     "name": "stdout",
     "output_type": "stream",
     "text": [
      "Enter your name:abc\n",
      "Enter your age:23\n",
      "Enter your gender:f\n",
      "nnn 21 female\n",
      "abc 23 f\n"
     ]
    }
   ],
   "source": [
    "class Student:\n",
    "    def __init__(self,name,age,gender): #formal parameters of call by value\n",
    "        self.name=None #name=object of that class should be used to print\n",
    "        self.age=None\n",
    "        self.gender=None\n",
    "a=input(\"Enter your name:\") #copy of name variable \n",
    "b=int(input(\"Enter your age:\"))\n",
    "c=input(\"Enter your gender:\")\n",
    "st3=Student(a,b,c)#class Student type #shift+tab=type of object\n",
    "st3.name=\"nnn\"\n",
    "st3.age=21\n",
    "st3.gender=\"female\"\n",
    "print(st3.name,st3.age,st3.gender)\n",
    "print(a,b,c)\n",
    "\n",
    "\n",
    "\n",
    "        "
   ]
  },
  {
   "cell_type": "code",
   "execution_count": 5,
   "id": "ced90dac",
   "metadata": {},
   "outputs": [
    {
     "name": "stdout",
     "output_type": "stream",
     "text": [
      "enter the name:abc\n",
      "enter your usn:2345\n",
      "abc 2345\n",
      "enter the student marks for the 5 subject50\n",
      "enter the student marks for the 5 subject50\n",
      "enter the student marks for the 5 subject50\n",
      "enter the student marks for the 5 subject50\n",
      "enter the student marks for the 5 subject60\n",
      "total percentage is: 52.0%\n"
     ]
    }
   ],
   "source": [
    "#Main CODE:\n",
    "class Stud:\n",
    "    def __init__(self):\n",
    "        self.name=None\n",
    "        self.usn=None\n",
    "        self.total=0\n",
    "        \n",
    "    def marks(self):\n",
    "        #self.sub1=0\n",
    "        for i in range(0,5):\n",
    "            sub1=int(input(\"enter the student marks for the 5 subject\"))\n",
    "            self.total+=sub1\n",
    "        percentage=(self.total/500)*100\n",
    "        print(f\"total percentage is: {percentage}%\")\n",
    "st=Stud()\n",
    "st.name=input(\"enter the name:\")\n",
    "st.usn=int(input(\"enter your usn:\"))\n",
    "print(st.name,st.usn)\n",
    "st.marks()\n",
    "        "
   ]
  },
  {
   "cell_type": "code",
   "execution_count": 6,
   "id": "ed99ce38",
   "metadata": {},
   "outputs": [
    {
     "name": "stdout",
     "output_type": "stream",
     "text": [
      "<class '__main__.Std'>\n",
      "Enter your Name: abc\n",
      "Enter Your USN: 2342\n",
      "Enter Your Marks in Sub1 : 79\n",
      "Enter Your Marks in Sub2 : 89\n",
      "Enter Your Marks in Sub3 : 69\n",
      "Enter Your Marks in Sub4 : 78\n",
      "Enter Your Marks in Sub5 : 89\n",
      "Name:  abc\n",
      "USN :  2342\n",
      "Marks in Five Subject are :\n",
      "Subject 1 = 79\n",
      "Subject 2 = 89\n",
      "Subject 3 = 69\n",
      "Subject 4 = 78\n",
      "Subject 5 = 89\n",
      "Percentage :  80.80000000000001\n",
      "Grade :  A\n"
     ]
    }
   ],
   "source": [
    "### input to output->list->file->string->byte->console based output\n",
    " #input to output->list->file->string->byte->console based output       \n",
    "class Std:     \n",
    "    def __init__(self): \n",
    "        self.__USN = None\n",
    "        self.__Name = None\n",
    "        self.__Marks = []\n",
    "        self.__Percentage = None\n",
    "        self.__Grade = None\n",
    "\n",
    "    def Std_Input(self):\n",
    "        self.__Name = input(\"Enter your Name: \")\n",
    "        self.__USN = input(\"Enter Your USN: \")\n",
    "        for i in range (0,5):\n",
    "            marks = input(f\"Enter Your Marks in Sub{i+1} : \")\n",
    "            self.__Marks.append(marks)\n",
    "\n",
    "    def calc_percentage (self):\n",
    "        sum = 0\n",
    "        for i in self.__Marks:\n",
    "            sum = sum + int(i)\n",
    "        self.__Percentage = (sum/500)*100\n",
    "\n",
    "    def calc_Grade(self):\n",
    "        per = float(self.__Percentage)\n",
    "        if per<=100 and per >=80:\n",
    "            self.__Grade = \"A\"\n",
    "        elif per<80 and per >=60:\n",
    "            self.__Grade = \"B\"\n",
    "        elif per<60 and per >=40:\n",
    "            self.__Grade = \"C\"\n",
    "        elif per<40 and per >=0:\n",
    "            self.__Grade = \"D\"\n",
    "        else: \n",
    "            self.__Grade = \"Inavlid\"\n",
    "    def print_details(self):\n",
    "            print(\"Name: \",self.__Name)\n",
    "            print(\"USN : \",self.__USN)\n",
    "            print(\"Marks in Five Subject are :\")\n",
    "            for i in range(0,5):\n",
    "                print(f\"Subject {i+1} = {self.__Marks[i]}\")\n",
    "            print(\"Percentage : \", self.__Percentage)\n",
    "            print(\"Grade : \", self.__Grade)\n",
    "\n",
    "    def convert_list(self):\n",
    "            st_list = [self.__USN,self.__Name,self.__Marks,self.__Percentage,self.__Grade]\n",
    "            return st_list\n",
    "    def covert_ob(self,stu_list):\n",
    "            self.__USN = stu_list[0]\n",
    "            self.__Name = stu_list[1]\n",
    "            self.__Marks = stu_list[2]\n",
    "            self.__Percentage = stu_list[3]\n",
    "            self.__Grade = stu_list[4]\n",
    "\n",
    "\n",
    "st1 = Std()\n",
    "print(type(st1))\n",
    "st1.Std_Input()\n",
    "st1.calc_percentage()\n",
    "st1.calc_Grade()\n",
    "st1.print_details()"
   ]
  },
  {
   "cell_type": "code",
   "execution_count": 7,
   "id": "c0796cb0",
   "metadata": {},
   "outputs": [],
   "source": [
    "#to add everything to a file\n",
    "with open(\"student.txt\",'wb') as File:\n",
    "    L=st1.convert_list() #to convert list into string,it will be comma separated data\n",
    "    data = f\"{L[0]}|{L[1]}|{L[2][0]},{L[2][1]},{L[2][2]},{L[2][3]},{L[2][4]}|{L[3]}|{L[4]}\\n\"\n",
    "    File.write(data.encode())\n",
    "    File.close()"
   ]
  },
  {
   "cell_type": "code",
   "execution_count": 8,
   "id": "0f7fc58f",
   "metadata": {},
   "outputs": [
    {
     "name": "stdout",
     "output_type": "stream",
     "text": [
      "2342|abc|79,89,69,78,89|80.80000000000001|A\n",
      "\n",
      "['2342', 'abc', ['79', '89', '69', '78', '89'], '80.80000000000001', 'A\\n']\n",
      "Name:  abc\n",
      "USN :  2342\n",
      "Marks in Five Subject are :\n",
      "Subject 1 = 79\n",
      "Subject 2 = 89\n",
      "Subject 3 = 69\n",
      "Subject 4 = 78\n",
      "Subject 5 = 89\n",
      "Percentage :  80.80000000000001\n",
      "Grade :  A\n",
      "\n"
     ]
    }
   ],
   "source": [
    "#To convert from file into object\n",
    "stu_list=[]\n",
    "with open(\"student.txt\",'rb') as File:\n",
    "    data = File.readline().decode('utf-8')\n",
    "    print(data)\n",
    "    for i in data.split(\"|\"):\n",
    "        stu_list.append(i)\n",
    "    mrks=stu_list[2]\n",
    "    mrks_list = []\n",
    "    for i in mrks.split(','):\n",
    "        mrks_list.append(i)\n",
    "    stu_list[2]=mrks_list\n",
    "\n",
    "\n",
    "print(stu_list)\n",
    "st2=Std()\n",
    "st2.covert_ob(stu_list)\n",
    "st2.print_details()\n",
    "    "
   ]
  },
  {
   "cell_type": "code",
   "execution_count": null,
   "id": "1c89d258",
   "metadata": {},
   "outputs": [],
   "source": []
  }
 ],
 "metadata": {
  "kernelspec": {
   "display_name": "Python 3 (ipykernel)",
   "language": "python",
   "name": "python3"
  },
  "language_info": {
   "codemirror_mode": {
    "name": "ipython",
    "version": 3
   },
   "file_extension": ".py",
   "mimetype": "text/x-python",
   "name": "python",
   "nbconvert_exporter": "python",
   "pygments_lexer": "ipython3",
   "version": "3.11.5"
  }
 },
 "nbformat": 4,
 "nbformat_minor": 5
}
