{
 "cells": [
  {
   "cell_type": "markdown",
   "id": "32ea6040",
   "metadata": {},
   "source": [
    "###  20/06/2024 ........................................................ GRAPH..........................................................................................."
   ]
  },
  {
   "cell_type": "markdown",
   "id": "eaa3dc9c",
   "metadata": {},
   "source": [
    "#### Graph are of four types based on weights and directions"
   ]
  },
  {
   "cell_type": "markdown",
   "id": "d0a4eccb",
   "metadata": {},
   "source": [
    "##### Weighted, Unweighted, Directed, Undirected   "
   ]
  },
  {
   "cell_type": "markdown",
   "id": "84821fb8",
   "metadata": {},
   "source": [
    "##### Graphs can be implemented in two types 1)Adjacency List  2)Adjacency Matrix"
   ]
  },
  {
   "cell_type": "markdown",
   "id": "f5ca2de2",
   "metadata": {},
   "source": [
    "##### Dictionary format is used to store the childs with respective nodes un form of stack for DFS traversal.....Here another dictionary types is used of bolean type {1:F,2:F,3:F,4:F,5:F,6:F,7:F,8:F} and later as visited in stack there becomes True"
   ]
  },
  {
   "cell_type": "code",
   "execution_count": 13,
   "id": "2ad57ab5",
   "metadata": {},
   "outputs": [
    {
     "name": "stdout",
     "output_type": "stream",
     "text": [
      "4\n",
      "8\n",
      "6\n",
      "3\n",
      "5\n",
      "7\n",
      "2\n",
      "1\n"
     ]
    }
   ],
   "source": [
    "#BFS\n",
    "def DFS(A,V,S,E):\n",
    "    if V[E]==False:\n",
    "        S.append(E)\n",
    "        V[E]=True\n",
    "    else:\n",
    "        return\n",
    "    for i in A[E]:\n",
    "        DFS(A,V,S,i[1])\n",
    "    print(S.pop())\n",
    "\n",
    "\n",
    "\n",
    "if __name__==\"__main__\":\n",
    "    A={1:[(1,2),(1,3)],\n",
    "       2:[(2,1),(2,7)],\n",
    "       3:[(3,1),(3,6),(3,5)],\n",
    "       4:[(4,7),(4,8)],\n",
    "       5:[(5,3),(5,7)],\n",
    "       6:[(6,3),(6,8)],\n",
    "       7:[(7,2),(7,5),(7,4)],\n",
    "       8:[(8,4),(8,6),(8,8)]}\n",
    "    V={1:False,\n",
    "       2:False,\n",
    "       3:False,\n",
    "       4:False,\n",
    "       5:False,\n",
    "       6:False,\n",
    "       7:False,\n",
    "       8:False}\n",
    "    S=[]\n",
    "    E=1\n",
    "    DFS(A,V,S,E)"
   ]
  },
  {
   "cell_type": "code",
   "execution_count": 12,
   "id": "10726f6e",
   "metadata": {},
   "outputs": [
    {
     "name": "stdout",
     "output_type": "stream",
     "text": [
      "1\n",
      "2\n",
      "3\n",
      "7\n",
      "6\n",
      "5\n",
      "4\n",
      "8\n"
     ]
    }
   ],
   "source": [
    "\n",
    "def bfs(G,e):\n",
    "    Q=[e]\n",
    "    v={}\n",
    "    \n",
    "    for i in G.keys():\n",
    "        v[i]=False\n",
    "    v[e]=True   \n",
    "    while len(Q)!=0:\n",
    "        curr=Q.pop(0)\n",
    "        print(curr)\n",
    "        for i in G[curr]:\n",
    "            if v[i[1]]==False:\n",
    "                Q.append(i[1])\n",
    "                v[i[1]]=True\n",
    "G={1:[(1,2),(1,3)],\n",
    "   2:[(2,1),(2,7)],\n",
    "   3:[(3,1),(3,6),(3,5)],\n",
    "   4:[(4,7),(4,8)],\n",
    "   5:[(5,3),(5,7)],\n",
    "   6:[(6,3),(6,8)],\n",
    "   7:[(7,2),(7,5),(7,4)],\n",
    "   8:[(8,4),(8,6)]\n",
    "  }\n",
    "bfs(G,1)"
   ]
  },
  {
   "cell_type": "markdown",
   "id": "a18e2d62",
   "metadata": {},
   "source": [
    "#### BINARY SEARCH TREE"
   ]
  },
  {
   "cell_type": "code",
   "execution_count": 14,
   "id": "5052499c",
   "metadata": {},
   "outputs": [
    {
     "name": "stdout",
     "output_type": "stream",
     "text": [
      "Root node: 5\n",
      "Sorted list: \n",
      "2 3 4 5 6 7 8 "
     ]
    }
   ],
   "source": [
    "class node:\n",
    "    def __init__(self, data):\n",
    "        self.value = data\n",
    "        self.right = None\n",
    "        self.left = None\n",
    "\n",
    "def ins_bst(root, val):\n",
    "    if root == None:\n",
    "        return node(val)\n",
    "    if val < root.value:\n",
    "        root.left = ins_bst(root.left, val)\n",
    "    if val > root.value:\n",
    "        root.right = ins_bst(root.right, val)\n",
    "    return root\n",
    "\n",
    "def inorder(root):\n",
    "    if root:\n",
    "        inorder(root.left)\n",
    "        print(root.value, end=\" \")\n",
    "        inorder(root.right)\n",
    "\n",
    "# input list\n",
    "elements = [5, 3, 7, 2, 4, 6, 8]\n",
    "\n",
    "# create BST\n",
    "root = None\n",
    "for e in elements:\n",
    "    root = ins_bst(root, e)\n",
    "\n",
    "# print sorted list\n",
    "print(\"Root node:\",root.value)\n",
    "print(\"Sorted list: \")\n",
    "inorder(root)"
   ]
  }
 ],
 "metadata": {
  "kernelspec": {
   "display_name": "Python 3 (ipykernel)",
   "language": "python",
   "name": "python3"
  },
  "language_info": {
   "codemirror_mode": {
    "name": "ipython",
    "version": 3
   },
   "file_extension": ".py",
   "mimetype": "text/x-python",
   "name": "python",
   "nbconvert_exporter": "python",
   "pygments_lexer": "ipython3",
   "version": "3.11.5"
  }
 },
 "nbformat": 4,
 "nbformat_minor": 5
}
