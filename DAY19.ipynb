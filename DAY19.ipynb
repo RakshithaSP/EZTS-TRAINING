{
 "cells": [
  {
   "cell_type": "markdown",
   "id": "7817b0df",
   "metadata": {},
   "source": [
    "##### 01/06/2024"
   ]
  },
  {
   "cell_type": "markdown",
   "id": "c913b6e3",
   "metadata": {},
   "source": [
    "#### Double Hashing-->Dynamic way of hashing(merge two hashing types)"
   ]
  },
  {
   "cell_type": "code",
   "execution_count": 6,
   "id": "42f7bedf",
   "metadata": {},
   "outputs": [
    {
     "name": "stdout",
     "output_type": "stream",
     "text": [
      "Index 0: 81\n",
      "Index 1: 34\n",
      "Index 2: 46\n",
      "Index 3: 56\n",
      "Index 4: 45\n",
      "Index 5: 104\n",
      "Index 6: 70\n",
      "Index 7: 37\n",
      "Index 8: 39\n",
      "Index 9: 20\n",
      "Index 10: None\n"
     ]
    }
   ],
   "source": [
    "class doublehashing:\n",
    "    def __init__(self,size):\n",
    "        self.size=size\n",
    "        self.table=[None]*size\n",
    "    def h1(self,k):\n",
    "        return k%11\n",
    "    def h2(self,k):\n",
    "        return 8-(k%8)\n",
    "    def hash(self,k,i): #if any collision occurs increment i+1\n",
    "        return(self.h1(k)+i*self.h2(k))%11\n",
    "    def insert(self,k):\n",
    "        for i in range(self.size):\n",
    "            pos=self.hash(k,i)\n",
    "            if self.table[pos] is None:\n",
    "                self.table[pos]=k\n",
    "                return pos\n",
    "        raise Exception(\"hash table overflow\")\n",
    "    def display(self):\n",
    "        for i,val in enumerate(self.table):\n",
    "            print(f\"Index {i}: {val}\")\n",
    "\n",
    "hash_table=doublehashing(11)\n",
    "\n",
    "elements=[20,34,45,70,56,81,104,37,46,39]\n",
    "for elem in elements:\n",
    "    hash_table.insert(elem)\n",
    "\n",
    "hash_table.display()"
   ]
  },
  {
   "cell_type": "code",
   "execution_count": 7,
   "id": "a104bc9e",
   "metadata": {},
   "outputs": [
    {
     "name": "stdout",
     "output_type": "stream",
     "text": [
      "(1, 4)\n",
      "(2, 3)\n",
      "(3, 2)\n",
      "(4, 1)\n"
     ]
    }
   ],
   "source": [
    "a=[1,2,3,4]\n",
    "b=[4,3,2,1]\n",
    "for i in zip(a,b):\n",
    "    print(i)"
   ]
  },
  {
   "cell_type": "code",
   "execution_count": 8,
   "id": "04f6b06d",
   "metadata": {},
   "outputs": [
    {
     "name": "stdout",
     "output_type": "stream",
     "text": [
      "(3, 2)\n",
      "(2, 1)\n",
      "(1, 0)\n"
     ]
    }
   ],
   "source": [
    "q=4\n",
    "i=3\n",
    "for x in zip(range(q-1,-1,-1),range(i-1,-1,-1)):\n",
    "    print(x)"
   ]
  },
  {
   "cell_type": "markdown",
   "id": "b5afcd18",
   "metadata": {},
   "source": [
    "#### N-Queen's problem"
   ]
  },
  {
   "cell_type": "code",
   "execution_count": null,
   "id": "1b3824cf",
   "metadata": {},
   "outputs": [],
   "source": []
  },
  {
   "cell_type": "code",
   "execution_count": 13,
   "id": "768e70c1",
   "metadata": {},
   "outputs": [
    {
     "name": "stdout",
     "output_type": "stream",
     "text": [
      "Enter the number of queens\n",
      "4\n",
      "[0, 1, 0, 0]\n",
      "[0, 0, 0, 1]\n",
      "[1, 0, 0, 0]\n",
      "[0, 0, 1, 0]\n"
     ]
    }
   ],
   "source": [
    "print (\"Enter the number of queens\")\n",
    "N = int(input())\n",
    "\n",
    "board = [[0]*N for _ in range(N)]\n",
    "def attack(i, j):\n",
    "    for k in range(0,N):\n",
    "        if board[i][k]==1 or board[k][j]==1:\n",
    "            return True\n",
    "    for k in range(0,N):\n",
    "        for l in range(0,N):\n",
    "            if (k+l==i+j) or (k-l==i-j):\n",
    "                if board[k][l]==1:\n",
    "                    return True\n",
    "    return False\n",
    "def N_queens(n):\n",
    "    if n==0:\n",
    "        return True\n",
    "    for i in range(0,N):\n",
    "        for j in range(0,N):\n",
    "             if (not(attack(i,j))) and (board[i][j]!=1):\n",
    "                    board[i][j] = 1\n",
    "                    if N_queens(n-1)==True:\n",
    "                         return True\n",
    "                    board[i][j] = 0\n",
    "    return False\n",
    "N_queens(N)\n",
    "for i in board:\n",
    "     print (i)"
   ]
  },
  {
   "cell_type": "markdown",
   "id": "3d6ebfd7",
   "metadata": {},
   "source": [
    "##### COINS SELECTION PROBLEM"
   ]
  },
  {
   "cell_type": "markdown",
   "id": "83c0b21c",
   "metadata": {},
   "source": [
    "#### Greedy algorithm"
   ]
  },
  {
   "cell_type": "code",
   "execution_count": 8,
   "id": "e9a4eff0",
   "metadata": {},
   "outputs": [
    {
     "name": "stdout",
     "output_type": "stream",
     "text": [
      "Enter the available number of coins: 1,5,7\n",
      "[1, 5, 7]\n",
      "Number of coins collected:  6\n"
     ]
    }
   ],
   "source": [
    "bill= 18\n",
    "coins =list(map(int,input(\"Enter the available number of coins: \").split(',')))\n",
    "dupe=list(coins)\n",
    "print(dupe)\n",
    "coins.sort(reverse=True)\n",
    "num_coins = 0\n",
    "amt_remain = bill\n",
    "for coin in coins:\n",
    "     while amt_remain >= coin:\n",
    "        amt_remain -= coin\n",
    "        num_coins += 1\n",
    "if amt_remain == 0:\n",
    "    print( \"Number of coins collected: \",num_coins)"
   ]
  },
  {
   "cell_type": "code",
   "execution_count": null,
   "id": "eee24dcd",
   "metadata": {},
   "outputs": [],
   "source": []
  }
 ],
 "metadata": {
  "kernelspec": {
   "display_name": "Python 3 (ipykernel)",
   "language": "python",
   "name": "python3"
  },
  "language_info": {
   "codemirror_mode": {
    "name": "ipython",
    "version": 3
   },
   "file_extension": ".py",
   "mimetype": "text/x-python",
   "name": "python",
   "nbconvert_exporter": "python",
   "pygments_lexer": "ipython3",
   "version": "3.11.5"
  }
 },
 "nbformat": 4,
 "nbformat_minor": 5
}
