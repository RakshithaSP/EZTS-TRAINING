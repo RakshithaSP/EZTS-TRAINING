{
 "cells": [
  {
   "cell_type": "markdown",
   "id": "e8fb1828",
   "metadata": {},
   "source": [
    "##### 27/06/2024"
   ]
  },
  {
   "cell_type": "markdown",
   "id": "6b2bd941",
   "metadata": {},
   "source": [
    "##### Finding shortest distance from the source(Bellman-ford)->DYNAMIC PROGRAMMING"
   ]
  },
  {
   "cell_type": "code",
   "execution_count": 5,
   "id": "43457620",
   "metadata": {},
   "outputs": [
    {
     "name": "stdout",
     "output_type": "stream",
     "text": [
      "[(0, 1), (0, 2), (0, 3), (1, 4), (2, 1), (2, 4), (3, 2), (3, 5), (4, 5)]\n",
      "{0: 0, 1: inf, 2: inf, 3: inf, 4: inf, 5: inf}\n",
      "{0: 0, 1: 1, 2: 3, 3: 5, 4: 0, 5: 3}\n"
     ]
    }
   ],
   "source": [
    "E_g=[\n",
    "    [0,6,4,5,False,False],\n",
    "    [False,0,False,False,-1,False],\n",
    "    [False,-2,0,False,3,False],\n",
    "    [False,False,-2,0,False,-1],\n",
    "    [False,False,False,False,0,3],\n",
    "    [False,False,False,False,False,0]\n",
    "]\n",
    "#d={0:\"A\",1:\"B\",2:\"C\",3:\"D\",4:\"E\",5:\"F\"}\n",
    "E_L=[]\n",
    "\n",
    "for i in range(len(E_g)):\n",
    "    for j in range(len(E_g[i])):\n",
    "        if E_g[i][j]!=False and E_g[i][j]!=0:\n",
    "            E_L.append(tuple((i,j)))\n",
    "print(E_L)  #[(A,B),(A,C),(A,D),(B,E),(C,B),(C,E),(D,C),(D,F),(E,F)] print in this format  \n",
    "\n",
    "dist={}\n",
    "for i in range(len(E_g)):\n",
    "    dist[i]=float(\"inf\")\n",
    "dist[0]=0\n",
    "print(dist)\n",
    "\n",
    "for i in range(len(E_g)-1):\n",
    "    for j in E_L:\n",
    "        new_dist=dist[j[0]]+E_g[j[0]][j[1]]\n",
    "        if dist[j[1]]>new_dist:\n",
    "            dist[j[1]]=new_dist\n",
    "print(dist)\n",
    "        \n",
    "            "
   ]
  },
  {
   "cell_type": "markdown",
   "id": "82fa438c",
   "metadata": {},
   "source": [
    "##### Dijkastra Algorithm  /(-_-)\\\\\\--->GREEDY METHOD"
   ]
  },
  {
   "cell_type": "code",
   "execution_count": 3,
   "id": "956d1d06",
   "metadata": {},
   "outputs": [
    {
     "name": "stdout",
     "output_type": "stream",
     "text": [
      "{0: 0, 1: inf, 2: inf, 3: inf, 4: inf, 5: inf, 6: inf, 7: inf, 8: inf, 9: inf}\n",
      "[0, 6, 10, 5, 8, 11, 8, 2, 16, 10]\n"
     ]
    }
   ],
   "source": [
    "g=[\n",
    "    [0,7,False,False,False,False,False,2,False,False],\n",
    "    [7,0,4,1,False,5,False,False,False,False],\n",
    "    [False,4,False,False,False,False,False,8,False,False],\n",
    "    [False,1,False,0,6,8,3,3,False,False],\n",
    "    [False,False,False,6,0,False,False,6,8,False],\n",
    "    [False,5,False,8,False,0,False,False,False,False],\n",
    "    [False,False,False,3,False,False,0,False,9,2],\n",
    "    [2,False,8,3,6,False,False,0,False,False],\n",
    "    [False,False,False,False,8,False,9,False,0,False],\n",
    "    [False,False,False,False,False,False,2,False,False,0]\n",
    "]\n",
    "temp={}\n",
    "for i in range(len(g)):\n",
    "    temp[i]=float('inf')\n",
    "dist=[float('inf')]*len(g)\n",
    "temp[0]=0\n",
    "print(temp)\n",
    "while len(temp)>0:\n",
    "    min_value=min(temp.values())\n",
    "    min_key=min(temp,key=temp.get)\n",
    "    temp.pop(min_key)\n",
    "    dist[min_key]=min_value\n",
    "\n",
    "    for j in range(len(g[min_key])):\n",
    "        if g[min_key][j]!=False and g[min_key][j]!=0:\n",
    "            new_dist=min_value+g[min_key][j]\n",
    "            if j in temp.keys() and temp[j]>new_dist:\n",
    "                temp[j]=new_dist\n",
    "            \n",
    "print(dist)"
   ]
  },
  {
   "cell_type": "markdown",
   "id": "47765b2e",
   "metadata": {},
   "source": [
    "##### Travelling salesman problem"
   ]
  },
  {
   "cell_type": "code",
   "execution_count": 16,
   "id": "b824ac24",
   "metadata": {},
   "outputs": [
    {
     "name": "stdout",
     "output_type": "stream",
     "text": [
      "minimum cost 19\n"
     ]
    }
   ],
   "source": [
    "import sys\n",
    "def Cost(curr,visited,G,DP):\n",
    "    n=len(G)\n",
    "    \n",
    "    if len(visited)==n:\n",
    "        return G[curr][0]\n",
    "   \n",
    "    visit=tuple(visited)\n",
    "    \n",
    "    if (curr,visit) in DP:\n",
    "        return DP[curr,visit]\n",
    "    \n",
    "    min_cost=sys.maxsize\n",
    "    \n",
    "    \n",
    "    for i in range (n):\n",
    "        if i not in visited:\n",
    "            new_visit=visited+[i]\n",
    "            new_cost=G[curr][i]+Cost(i,new_visit,G,DP)\n",
    "            min_cost=min(min_cost,new_cost)\n",
    "    DP[(curr,visit)]=min_cost\n",
    "    return min_cost\n",
    "        \n",
    "G=[\n",
    "    [0,4,7,5,5],\n",
    "    [4,0,2,3,8],\n",
    "    [7,2,0,3,4],\n",
    "    [5,3,3,0,6],\n",
    "    [5,8,4,6,0]\n",
    "]\n",
    "n=len(G)\n",
    "DP={}\n",
    "print(\"minimum cost\",Cost(0,[0],G,DP))"
   ]
  }
 ],
 "metadata": {
  "kernelspec": {
   "display_name": "Python 3 (ipykernel)",
   "language": "python",
   "name": "python3"
  },
  "language_info": {
   "codemirror_mode": {
    "name": "ipython",
    "version": 3
   },
   "file_extension": ".py",
   "mimetype": "text/x-python",
   "name": "python",
   "nbconvert_exporter": "python",
   "pygments_lexer": "ipython3",
   "version": "3.11.5"
  }
 },
 "nbformat": 4,
 "nbformat_minor": 5
}
