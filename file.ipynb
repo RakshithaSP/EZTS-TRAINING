{
 "cells": [
  {
   "cell_type": "code",
   "execution_count": 1,
   "id": "eefac5b5",
   "metadata": {},
   "outputs": [
    {
     "name": "stdout",
     "output_type": "stream",
     "text": [
      "1 2 2 3 3 3\n",
      "[1, 2, 2, 3, 3, 3] [0, 0, 0, 0, 0, 0]\n",
      "1 [1, 0, 0, 0, 0, 0]\n",
      "2 [1, 1, 0, 0, 0, 0]\n",
      "2 [1, 2, 0, 0, 0, 0]\n",
      "3 [1, 2, 1, 0, 0, 0]\n",
      "3 [1, 2, 2, 0, 0, 0]\n",
      "3 [1, 2, 3, 0, 0, 0]\n",
      "final count [1, 2, 3, 0, 0, 0]\n"
     ]
    }
   ],
   "source": [
    "#voting problems count\n",
    "vote=list(map(int,input().split(\" \")))\n",
    "count=[0]*6\n",
    "print(vote,count)\n",
    "for i in vote:\n",
    "    count[i-1]=count[i-1]+1   #increment the count index value of that elements with the previos obtained count \n",
    "    print(i,count)\n",
    "print(\"final count\",count)\n",
    "\n",
    "\n",
    "\n",
    "    \n"
   ]
  },
  {
   "cell_type": "code",
   "execution_count": 3,
   "id": "1c3ed3d8",
   "metadata": {},
   "outputs": [
    {
     "name": "stdout",
     "output_type": "stream",
     "text": [
      "Namaskara\n"
     ]
    }
   ],
   "source": [
    "#file appending concept\n",
    "import os\n",
    "with open(\"rakshitha.txt\",'w') as f:\n",
    "    f.write(\"Namaskara\")\n",
    "    f.close()\n",
    "\n",
    "with open(\"rakshitha.txt\",'r') as f:\n",
    "    s=f.read()\n",
    "    print(s)\n",
    "s=s.replace(\"Namaskara\",\"hello\")\n",
    "with open(\"rakshitha.txt\",'a') as f:\n",
    "    f.write(s)\n",
    "    f.close()\n",
    "\n",
    "    "
   ]
  },
  {
   "cell_type": "code",
   "execution_count": 4,
   "id": "4a9b8bf9",
   "metadata": {},
   "outputs": [],
   "source": [
    "import os\n",
    "with open(\"rakshitha.txt\",'w') as f:\n",
    "    f.write(\"Namaskara\")\n",
    "    f.close()\n"
   ]
  },
  {
   "cell_type": "code",
   "execution_count": 5,
   "id": "ed78f76e",
   "metadata": {},
   "outputs": [
    {
     "name": "stdout",
     "output_type": "stream",
     "text": [
      "0\n",
      "4\n",
      "kara\n"
     ]
    }
   ],
   "source": [
    "with open(\"rakshitha.txt\",'r+b') as f:\n",
    "    print(f.tell())   #shows cursor points\n",
    "    f.seek(-5,2)\n",
    "    print(f.tell())\n",
    "    f.write(b\"#\")\n",
    "    print(f.read().decode('utf-8'))\n",
    "    f.close()\n",
    "     "
   ]
  },
  {
   "cell_type": "code",
   "execution_count": null,
   "id": "724aea9f",
   "metadata": {},
   "outputs": [],
   "source": []
  }
 ],
 "metadata": {
  "kernelspec": {
   "display_name": "Python 3 (ipykernel)",
   "language": "python",
   "name": "python3"
  },
  "language_info": {
   "codemirror_mode": {
    "name": "ipython",
    "version": 3
   },
   "file_extension": ".py",
   "mimetype": "text/x-python",
   "name": "python",
   "nbconvert_exporter": "python",
   "pygments_lexer": "ipython3",
   "version": "3.11.5"
  }
 },
 "nbformat": 4,
 "nbformat_minor": 5
}
